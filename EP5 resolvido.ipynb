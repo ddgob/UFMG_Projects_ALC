{
 "cells": [
  {
   "cell_type": "markdown",
   "id": "settled-diversity",
   "metadata": {
    "id": "settled-diversity"
   },
   "source": [
    "# Exercício de Programação 5\n",
    "\n",
    "<font color=\"red\">**Prazo de submissão: 23:55 do dia 23.08.2021** </font>\n",
    "\n",
    "2021.1 Álgebra Linear Computacional - DCC - UFMG\n",
    "\n",
    "Erickson - Fabricio\n",
    "\n",
    "Instruções:\n",
    "* Antes de submeter suas soluções, certifique-se de que tudo roda como esperado. Primeiro, **reinicie o kernel** no menu, selecione Kernel$\\rightarrow$Restart e então execute **todas as células** (no menu, Cell$\\rightarrow$Run All)\n",
    "* Apenas o arquivo .ipynb deve ser submetido. Ele não deve ser compactado.\n",
    "* Não deixe de preencher seu nome e número de matrícula na célula a seguir"
   ]
  },
  {
   "cell_type": "markdown",
   "id": "rational-architecture",
   "metadata": {
    "id": "rational-architecture"
   },
   "source": [
    "**Nome do aluno:** Daniel Oliveira Barbosa\n",
    "\n",
    "**Matricula:** 2020006450"
   ]
  },
  {
   "cell_type": "markdown",
   "id": "committed-lecture",
   "metadata": {
    "id": "committed-lecture"
   },
   "source": [
    "## Introdução\n",
    "Esse EP será dividido em 2 partes:\n",
    "\n",
    "1. Métodos iterativos para calcular autovalores e singular values.\n",
    "3. Métodos iterativos para solução de sistemas $Ax = b$ (Jacob e Seidel)\n",
    "\n",
    "Os conceitos cobrados aqui são discutidos nas aulas que abrangem o conteúdo de cada parte e elas devem ser a principal fonte de consulta para suas soluções."
   ]
  },
  {
   "cell_type": "code",
   "execution_count": 2,
   "id": "lesbian-intent",
   "metadata": {
    "id": "lesbian-intent"
   },
   "outputs": [],
   "source": [
    "import matplotlib.pyplot as plt\n",
    "import numpy as np"
   ]
  },
  {
   "cell_type": "markdown",
   "id": "computational-birth",
   "metadata": {
    "id": "computational-birth"
   },
   "source": [
    "### Questão 1 - Cálculo de autovalores e valores singulares\n"
   ]
  },
  {
   "cell_type": "markdown",
   "id": "itffvRYMizM_",
   "metadata": {
    "id": "itffvRYMizM_"
   },
   "source": [
    "Nessa primeira parte, vamos implementar o algoritmo QR para obtenção dos autovalores de uma matriz A, como foi descrito nas aulas.\n",
    "\n",
    "Abaixo temos a matriz A:"
   ]
  },
  {
   "cell_type": "code",
   "execution_count": 3,
   "id": "4ckXBj9JhBlM",
   "metadata": {
    "colab": {
     "base_uri": "https://localhost:8080/"
    },
    "id": "4ckXBj9JhBlM",
    "outputId": "296266a1-afa1-40bd-b632-6d7e8cf800db"
   },
   "outputs": [
    {
     "name": "stdout",
     "output_type": "stream",
     "text": [
      "[[625 125  25   5   1]\n",
      " [256  64  16   4   1]\n",
      " [ 81  27   9   3   1]\n",
      " [ 16   8   4   2   1]\n",
      " [  1   1   1   1   1]]\n"
     ]
    }
   ],
   "source": [
    "# ATENÇÃO: Não editar esta célula\n",
    "A = np.vander(np.array([5, 4, 3, 2, 1]))\n",
    "print(A)"
   ]
  },
  {
   "cell_type": "markdown",
   "id": "ASEwRvSftOgf",
   "metadata": {
    "id": "ASEwRvSftOgf"
   },
   "source": [
    "**1.1.1** Implemente o algoritmo QR, utilizando um **while loop** até satisfazer a condição: $A_i[1][0] < 10^{-10}$. Para tanto, lembre-se dos passos do algoritmo discutidos em aula:\n",
    "\n",
    "Inicializando:\n",
    "$A_0 = A$ \\\\\n",
    "Em cada loop: \\\\\n",
    "$A_0 = Q_0R_0$ \\\\\n",
    "$A_1 = Q_0^T A_0 Q_0$ \\\\\n",
    "$A_0 \\leftarrow A_1$ \\\\\n",
    "\n",
    "\n",
    "Para a decomposição QR, utilize o comando [`np.linalg.qr`](https://numpy.org/doc/stable/reference/generated/numpy.linalg.qr.html).\n",
    "\n",
    "Ao final do loop imprima os resultados: \\\\\n",
    "\n",
    "print(iter, A[1][0], A)\n",
    "\n",
    "iter = número de iterações necessárias para convergência."
   ]
  },
  {
   "cell_type": "code",
   "execution_count": 4,
   "id": "ppRu8_59ZtMk",
   "metadata": {
    "id": "ppRu8_59ZtMk"
   },
   "outputs": [
    {
     "name": "stdout",
     "output_type": "stream",
     "text": [
      "8 5.732002112419937e-11 [[ 681. -130.   48.  -33.   17.]\n",
      " [   0.   18.   -4.    4.   -2.]\n",
      " [   0.    0.    2.   -0.    0.]\n",
      " [   0.    0.    0.    0.   -0.]\n",
      " [   0.    0.    0.    0.    0.]]\n"
     ]
    }
   ],
   "source": [
    "# Insira seu código aqui\n",
    "A_0 = A\n",
    "iter = 0\n",
    "while(not(A_0[1][0] < 10**(-10))):\n",
    "    Q_0, R_0 = np.linalg.qr(A_0)\n",
    "    A_0 = Q_0.T @ A_0 @ Q_0\n",
    "    iter += 1\n",
    "A = A_0\n",
    "print(iter, A[1][0], np.around(A, decimals=0))"
   ]
  },
  {
   "cell_type": "markdown",
   "id": "vy5pInNj3mY1",
   "metadata": {
    "id": "vy5pInNj3mY1"
   },
   "source": [
    "**1.1.2** Repita o exercício anterior, agora simplificando o algoritmo QR, considerando a relação:\n",
    "\n",
    "$$Q_0^TA_0 = R_0$$\n",
    "\n",
    "Ao final do loop imprima os resultados: \\\\\n",
    "\n",
    "print(iter, R_0, A[1][0], A)\n",
    "\n",
    "iter = número de iterações necessárias para convergência."
   ]
  },
  {
   "cell_type": "code",
   "execution_count": 5,
   "id": "V4MG2RCiJGFP",
   "metadata": {
    "id": "V4MG2RCiJGFP"
   },
   "outputs": [
    {
     "name": "stdout",
     "output_type": "stream",
     "text": [
      "8 [[-6.80926658e+02  1.29785039e+02 -4.80047507e+01  3.29546793e+01\n",
      "   1.68972529e+01]\n",
      " [ 0.00000000e+00 -1.76584868e+01  3.94000666e+00 -3.88787075e+00\n",
      "  -2.17967102e+00]\n",
      " [ 0.00000000e+00  0.00000000e+00 -1.97307233e+00  4.82572268e-01\n",
      "   4.47583086e-01]\n",
      " [ 0.00000000e+00  0.00000000e+00  0.00000000e+00 -4.12353534e-01\n",
      "  -1.89839670e-01]\n",
      " [ 0.00000000e+00  0.00000000e+00  0.00000000e+00  0.00000000e+00\n",
      "   2.94391956e-02]] 5.732002112419974e-11 [[ 681. -130.   48.  -33.   17.]\n",
      " [   0.   18.   -4.    4.   -2.]\n",
      " [   0.    0.    2.   -0.    0.]\n",
      " [   0.    0.    0.    0.   -0.]\n",
      " [   0.    0.    0.    0.    0.]]\n"
     ]
    }
   ],
   "source": [
    "# Insira seu código aqui\n",
    "A = np.vander(np.array([5, 4, 3, 2, 1]))\n",
    "A_0 = A\n",
    "iter = 0\n",
    "while(not(A_0[1][0] < 10**(-10))):\n",
    "    Q_0, R_0 = np.linalg.qr(A_0)\n",
    "    A_0 = R_0 @ Q_0\n",
    "    iter += 1\n",
    "A = A_0\n",
    "print(iter, R_0, A[1][0], np.around(A, decimals=0))"
   ]
  },
  {
   "cell_type": "markdown",
   "id": "p-8x7-bAla2h",
   "metadata": {
    "id": "p-8x7-bAla2h"
   },
   "source": [
    "O próximo passo agora é utilizar o algoritmo QR para encontrar valores singulares de matrizes não quadradas. Considere para este exercício as matrizes B e C abaixo:"
   ]
  },
  {
   "cell_type": "code",
   "execution_count": 6,
   "id": "rXRV-y2T7FVv",
   "metadata": {
    "colab": {
     "base_uri": "https://localhost:8080/"
    },
    "id": "rXRV-y2T7FVv",
    "outputId": "5137a010-e195-42cc-e36b-60379c739032"
   },
   "outputs": [
    {
     "name": "stdout",
     "output_type": "stream",
     "text": [
      "B: \n",
      " [[4 5 6]\n",
      " [7 8 9]]\n",
      "C: \n",
      " [[ 1  2  3  4]\n",
      " [ 5  6  7  8]\n",
      " [10 10  7  2]]\n"
     ]
    }
   ],
   "source": [
    "B = np.array([[4, 5, 6], [7, 8, 9]])\n",
    "C = np.array([[1, 2, 3, 4], [5, 6, 7, 8], [10, 10, 7, 2]])\n",
    "print('B:', '\\n', B)\n",
    "print('C:', '\\n', C)"
   ]
  },
  {
   "cell_type": "markdown",
   "id": "h_ZBCsZLnmXk",
   "metadata": {
    "id": "h_ZBCsZLnmXk"
   },
   "source": [
    "**1.2.1** Para resolver essa questão, lembre-se que para qualquer matriz não quadrada B:\n",
    "\n",
    "1. Existe uma decomposição $B = U \\Sigma V^T$ \n",
    "\n",
    "1. $B^T B$ é quadrada, simétrica e admite decomposição espectral da forma: $B^T B = Q \\Lambda Q^T$\n",
    "\n",
    "3. Substituindo 1 em 2, temos: $B^T B = V \\Sigma^2 V^T$\n",
    "\n",
    "A nível de algoritmo, crie uma função generalista que retorna os valores singulares de qualquer matriz real, não quadrada seguindo os passos:\n",
    "\n",
    "1. Calcule $S =B^T B$\n",
    "2. Use o algoritmo QR para obter autovalores de $S$ (loop com 10 iterações).\n",
    "3. Tire a raiz quadrada dos autovalores de S para obter os valores singulares de B.\n",
    "4. Retorne um vetor **apenas com os valores singulares não nulos** (dica: [`np.diag`](https://numpy.org/doc/stable/reference/generated/numpy.diag.html)).\n",
    "\n",
    "Imprima a saída da sua função para B e C."
   ]
  },
  {
   "cell_type": "code",
   "execution_count": 10,
   "id": "7c1963f5",
   "metadata": {},
   "outputs": [
    {
     "name": "stdout",
     "output_type": "stream",
     "text": [
      "singB: [16.45601991  0.44655204]\n",
      "singC: [20.34572265  6.55272059  0.33678326]\n"
     ]
    }
   ],
   "source": [
    "# Insira seu código aqui\n",
    "def singValues(B):\n",
    "    S = B.T @ B\n",
    "    S0 = S\n",
    "    iter = 0\n",
    "    while(iter <= 10):\n",
    "        Q, R = np.linalg.qr(S0)\n",
    "        S0 = R @ Q\n",
    "        iter += 1\n",
    "    singValuesDiagonal = np.diag(S0) \n",
    "    singValuesVec = np.sqrt(singValuesDiagonal[singValuesDiagonal >= 0])\n",
    "    for i in range(singValuesVec.size):\n",
    "        if singValuesVec[i] < 10**(-5):\n",
    "            singValuesVec = np.delete(singValuesVec, i)\n",
    "    return singValuesVec\n",
    "print(\"singB:\", singValues(B))\n",
    "print(\"singC:\", singValues(C))"
   ]
  },
  {
   "cell_type": "markdown",
   "id": "pV7TJX-Qn43E",
   "metadata": {
    "id": "pV7TJX-Qn43E"
   },
   "source": [
    "### Questão 2 -Gauss-Jacobi e Gauss Seidel\n",
    "\n",
    "Nesta seçãoo, vamos implementar os algoritmos de Gauss-Jacobi e Gauss Seidel para resolver o sistema $Ax = b$, tal como foi descrito nas aulas.\n",
    "\n",
    "Dica 1:\n",
    "\n",
    "Passos iterativos do método Gauss-Jacobi para uma matriz 3x3:\n",
    "\n",
    "Dado um valor inicial para x: $\\vec{x}^{k = 0} = [1, 1, 1]$\n",
    "\n",
    "Realize a iteração:\n",
    "\n",
    "$x_1^{k+1} = (b_1 - a_{12} x_2^{(k)} - a_{13}x_3^{(k)})/a_{11}$\n",
    "\n",
    "$x_2^{k+1} = (b_2 - a_{21} x_1^{(k)} - a_{23}x_3^{(k)})/a_{22}$\n",
    "\n",
    "$x_3^{k+1} = (b_3 - a_{31} x_1^{(k)} - a_{32}x_2^{(k)})/a_{33}$\n",
    "\n",
    "Dica 2:\n",
    "\n",
    "Passos iterativos do método Gauss-Seidel para uma matriz 3x3:\n",
    "\n",
    "Dado um valor inicial para x: $\\vec{x}^{k = 0} = [1, 1, 1]$\n",
    "\n",
    "Realize a iteração:\n",
    "\n",
    "$x_1^{k+1} = (b_1 - a_{12} x_2^{(k)} - a_{13}x_3^{(k)})/a_{11}$\n",
    "\n",
    "$x_2^{k+1} = (b_2 - a_{21} x_1^{(k+1)} - a_{23}x_3^{(k)})/a_{22}$\n",
    "\n",
    "$x_3^{k+1} = (b_3 - a_{31} x_1^{(k+1)} - a_{32}x_2^{(k+1)})/a_{33}$\n",
    "\n",
    "Dica 3:\n",
    "\n",
    "Ao fazer o exercício no Colab tive problemas de arredondamento ao criar o vetor x_iter com o comando np.array. Caso tenham este problema, basta declarar x_iter como uma lista."
   ]
  },
  {
   "cell_type": "markdown",
   "id": "N3uhDT9a2kch",
   "metadata": {
    "id": "N3uhDT9a2kch"
   },
   "source": [
    "**2.1** Encontre a solução do sistema $Ax = b$, pelo método de Gauss-Jacobi realizando a iteração do método 5 vezes. A cada iteração, realize o print da sua estimativa para x. Neste exercício, considere a primeira estimativa de $x = [1, 1, 1]$, com A e b definidos abaixo.\n",
    "\n",
    "Após rodar o algoritmo, faça um print da sua solução, comparando com a saída do método numpy: np.linalg.solve(A,b)"
   ]
  },
  {
   "cell_type": "code",
   "execution_count": 11,
   "id": "jeu9nVWeudje",
   "metadata": {
    "colab": {
     "base_uri": "https://localhost:8080/"
    },
    "id": "jeu9nVWeudje",
    "outputId": "816c1e09-c50b-46d5-c1c7-618b1f8127b8"
   },
   "outputs": [
    {
     "name": "stdout",
     "output_type": "stream",
     "text": [
      "A: \n",
      " [[27  6 -2]\n",
      " [ 6 15  2]\n",
      " [ 1  1 54]]\n",
      "b: \n",
      " [ 85  72 110]\n"
     ]
    }
   ],
   "source": [
    "# ATENÇÃO: Não editar esta célula\n",
    "A = np.array([[27, 6, -2], [6, 15, 2], [1, 1, 54]])\n",
    "b = np.array([85, 72, 110])\n",
    "print('A: \\n', A)\n",
    "print('b: \\n', b)"
   ]
  },
  {
   "cell_type": "code",
   "execution_count": 12,
   "id": "BxN9Xf3gI__S",
   "metadata": {
    "id": "BxN9Xf3gI__S"
   },
   "outputs": [
    {
     "name": "stdout",
     "output_type": "stream",
     "text": [
      "iteration  1 [3.1481481481481484, 4.8, 2.037037037037037]\n",
      "\n",
      "iteration  2 [2.2323731138545955, 3.635445816186557, 1.9283737235177565]\n",
      "\n",
      "iteration  3 [2.4831137981450437, 3.549637984272948, 1.9253194114367038]\n",
      "\n",
      "iteration  4 [2.5019559598976193, 3.5425083611827253, 1.9251025125725862]\n",
      "\n",
      "iteration  5 [2.5035242540018086, 3.5419099633895987, 1.9250845515297887]\n",
      "\n",
      "np.linalg.solve:  [2.50366797 3.54185509 1.92508291]\n"
     ]
    }
   ],
   "source": [
    "# Insira seu código aqui\n",
    "x = [0, 0, 0]\n",
    "x_iter = [0, 0, 0]\n",
    "for i in range(5):\n",
    "    x_iter[0] = (b[0] - A[0, 1] * x[1] - A[0, 2] * x[2]) * 1 / A[0, 0]\n",
    "    x_iter[1] = (b[1] - A[1, 0] * x[0] - A[1, 2] * x[2]) * 1 / A[1, 1]\n",
    "    x_iter[2] = (b[2] - A[2, 0] * x[0] - A[2, 1] * x[1]) * 1 / A[2, 2]\n",
    "    x = x_iter\n",
    "    print(\"iteration \", i+1, x)\n",
    "    print()\n",
    "f = np.linalg.solve(A, b)\n",
    "print(\"np.linalg.solve: \", f)"
   ]
  },
  {
   "cell_type": "markdown",
   "id": "OE0zIPudHtKJ",
   "metadata": {
    "id": "OE0zIPudHtKJ"
   },
   "source": [
    "**2.2** Repita o exercício anterior, agora pelo método de Gauss-Seidel"
   ]
  },
  {
   "cell_type": "code",
   "execution_count": 14,
   "id": "hyypho6iJDO9",
   "metadata": {
    "id": "hyypho6iJDO9"
   },
   "outputs": [
    {
     "name": "stdout",
     "output_type": "stream",
     "text": [
      "iteration  1 [3.1481481481481484, 3.5407407407407407, 1.9131687242798352]\n",
      "\n",
      "iteration  2 [2.50303307422649, 3.5436976070720925, 1.9250605429389152]\n",
      "\n",
      "iteration  3 [2.503256868275751, 3.5420225136311774, 1.9250874188535751]\n",
      "\n",
      "iteration  4 [2.503631102071114, 3.5418692366577447, 1.9250833270605767]\n",
      "\n",
      "iteration  5 [2.5036648605249883, 3.5418562788485946, 1.925082941863452]\n",
      "\n",
      "np.linalg.solve:  [2.50366797 3.54185509 1.92508291]\n"
     ]
    }
   ],
   "source": [
    "# Insira seu código aqui\n",
    "x = [0, 0, 0]\n",
    "for i in range(5):\n",
    "    x[0] = (b[0] - A[0, 1] * x[1] - A[0, 2] * x[2]) * 1 / A[0, 0]\n",
    "    x[1] = (b[1] - A[1, 0] * x[0] - A[1, 2] * x[2]) * 1 / A[1, 1]\n",
    "    x[2] = (b[2] - A[2, 0] * x[0] - A[2, 1] * x[1]) * 1 / A[2, 2]\n",
    "    print(\"iteration \", i+1, x)\n",
    "    print()\n",
    "f = np.linalg.solve(A, b)\n",
    "print(\"np.linalg.solve: \", f)"
   ]
  }
 ],
 "metadata": {
  "colab": {
   "collapsed_sections": [],
   "name": "EP5_corrigido.ipynb",
   "provenance": []
  },
  "kernelspec": {
   "display_name": "Python 3 (ipykernel)",
   "language": "python",
   "name": "python3"
  },
  "language_info": {
   "codemirror_mode": {
    "name": "ipython",
    "version": 3
   },
   "file_extension": ".py",
   "mimetype": "text/x-python",
   "name": "python",
   "nbconvert_exporter": "python",
   "pygments_lexer": "ipython3",
   "version": "3.9.6"
  }
 },
 "nbformat": 4,
 "nbformat_minor": 5
}
